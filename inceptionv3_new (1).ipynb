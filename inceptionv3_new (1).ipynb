{
 "cells": [
  {
   "cell_type": "code",
   "execution_count": 67,
   "metadata": {},
   "outputs": [],
   "source": [
    "import tensorflow as tf\n",
    "tf.keras.backend.clear_session()"
   ]
  },
  {
   "cell_type": "code",
   "execution_count": 68,
   "metadata": {},
   "outputs": [],
   "source": [
    "import tensorflow as tf\n",
    "from tensorflow.keras.applications import InceptionV3, EfficientNetB0\n",
    "from tensorflow.keras.layers import Dense, GlobalAveragePooling2D, Dropout\n",
    "from tensorflow.keras.models import Model\n",
    "from tensorflow.keras.preprocessing.image import ImageDataGenerator\n",
    "from tensorflow.keras.callbacks import ModelCheckpoint\n",
    "from tensorflow.keras.optimizers import Adam\n",
    "from sklearn.model_selection import train_test_split\n",
    "import numpy as np\n",
    "import matplotlib.pyplot as plt\n",
    "from sklearn.metrics import confusion_matrix, classification_report\n",
    "import seaborn as sns\n",
    "import os\n",
    "import pandas as pd"
   ]
  },
  {
   "cell_type": "code",
   "execution_count": 84,
   "metadata": {},
   "outputs": [],
   "source": [
    "# Define paths and parameters\n",
    "data_dir = r\"C:\\Users\\alian\\Downloads\\skripshoot\\data\"\n",
    "img_height, img_width = 299, 299\n",
    "batch_size = 32\n",
    "epochs = 20"
   ]
  },
  {
   "cell_type": "code",
   "execution_count": 127,
   "metadata": {},
   "outputs": [],
   "source": [
    "from PIL import Image\n",
    "\n",
    "def rotate_image(image, angle):\n",
    "    return image.rotate(angle)\n",
    "\n",
    "def load_and_augment_data(data_dir):\n",
    "    images = []\n",
    "    labels = []\n",
    "    file_paths = []\n",
    "    for class_name in os.listdir(data_dir):\n",
    "        class_dir = os.path.join(data_dir, class_name)\n",
    "        if os.path.isdir(class_dir):\n",
    "            for img_name in os.listdir(class_dir):\n",
    "                img_path = os.path.join(class_dir, img_name)\n",
    "                img = tf.keras.preprocessing.image.load_img(img_path, target_size=(img_height, img_width))\n",
    "                img = img.resize((img_width, img_height))\n",
    "                \n",
    "                # Add original image\n",
    "                images.append(np.array(img))\n",
    "                labels.append(0 if class_name == 'non-gingi' else 1)\n",
    "                file_paths.append(img_path)\n",
    "                \n",
    "                # Duplicate image based on rotation\n",
    "                for angle in [90, 180, 270]:\n",
    "                    rotated_img = rotate_image(img, angle)\n",
    "                    images.append(np.array(rotated_img))\n",
    "                    labels.append(0 if class_name == 'non-gingi' else 1)\n",
    "                    file_paths.append(img_path)  # Use same path for rotated images\n",
    "    \n",
    "    return np.array(images), np.array(labels), np.array(file_paths)\n",
    "\n",
    "# Use this function instead of the previous load_data function\n",
    "images, labels, file_paths = load_and_augment_data(data_dir)"
   ]
  },
  {
   "cell_type": "code",
   "execution_count": 86,
   "metadata": {},
   "outputs": [
    {
     "name": "stdout",
     "output_type": "stream",
     "text": [
      "Training set distribution: [250 276]\n"
     ]
    }
   ],
   "source": [
    "print(\"Training set distribution:\", np.bincount(labels))"
   ]
  },
  {
   "cell_type": "code",
   "execution_count": 128,
   "metadata": {},
   "outputs": [],
   "source": [
    "datagen = ImageDataGenerator(\n",
    "    horizontal_flip=True, vertical_flip=True\n",
    "    )\n",
    "\n",
    "# Split data\n",
    "train_val_images, test_images, train_val_labels, test_labels, train_val_paths, test_paths = train_test_split(\n",
    "    images, labels, file_paths, test_size=0.2)\n",
    "train_images, val_images, train_labels, val_labels, train_paths, val_paths = train_test_split(\n",
    "    train_val_images, train_val_labels, train_val_paths, test_size=0.25)"
   ]
  },
  {
   "cell_type": "code",
   "execution_count": 111,
   "metadata": {},
   "outputs": [
    {
     "name": "stdout",
     "output_type": "stream",
     "text": [
      "Training set distribution: [157 158]\n",
      "Validation set distribution: [54 51]\n",
      "Test set distribution: [39 67]\n"
     ]
    }
   ],
   "source": [
    "print(\"Training set distribution:\", np.bincount(train_labels))\n",
    "print(\"Validation set distribution:\", np.bincount(val_labels))\n",
    "print(\"Test set distribution:\", np.bincount(test_labels))"
   ]
  },
  {
   "cell_type": "code",
   "execution_count": 60,
   "metadata": {},
   "outputs": [],
   "source": [
    "# Create data generators\n",
    "train_generator = datagen.flow(train_images, train_labels, batch_size=batch_size)\n",
    "val_generator = datagen.flow(val_images, val_labels, batch_size=batch_size)\n"
   ]
  },
  {
   "cell_type": "code",
   "execution_count": 129,
   "metadata": {},
   "outputs": [],
   "source": [
    "# Build the model\n",
    "base_model = InceptionV3(weights='imagenet', include_top=False, input_shape=(299, 299, 3))\n",
    "\n",
    "x = base_model.output\n",
    "x = GlobalAveragePooling2D()(x)\n",
    "output = Dense(1, activation='sigmoid')(x)\n",
    "model = Model(inputs=base_model.input, outputs=output)\n",
    "\n",
    "# Compile the model\n",
    "model.compile(optimizer=Adam(0.0001), loss='binary_crossentropy', metrics=['accuracy'])"
   ]
  },
  {
   "cell_type": "code",
   "execution_count": 130,
   "metadata": {},
   "outputs": [
    {
     "name": "stdout",
     "output_type": "stream",
     "text": [
      "Epoch 1/50\n",
      "10/10 [==============================] - 8s 383ms/step - loss: 0.6360 - accuracy: 0.6413 - val_loss: 0.6645 - val_accuracy: 0.6000\n",
      "Epoch 2/50\n",
      "10/10 [==============================] - 3s 293ms/step - loss: 0.1658 - accuracy: 0.9556 - val_loss: 0.7351 - val_accuracy: 0.5714\n",
      "Epoch 3/50\n",
      "10/10 [==============================] - 3s 294ms/step - loss: 0.0409 - accuracy: 1.0000 - val_loss: 0.8470 - val_accuracy: 0.5524\n",
      "Epoch 4/50\n",
      "10/10 [==============================] - 3s 298ms/step - loss: 0.0128 - accuracy: 1.0000 - val_loss: 0.9864 - val_accuracy: 0.5619\n",
      "Epoch 5/50\n",
      "10/10 [==============================] - 3s 294ms/step - loss: 0.0033 - accuracy: 1.0000 - val_loss: 1.0424 - val_accuracy: 0.6000\n",
      "Epoch 6/50\n",
      "10/10 [==============================] - 3s 291ms/step - loss: 0.0039 - accuracy: 1.0000 - val_loss: 0.9954 - val_accuracy: 0.5714\n",
      "Epoch 7/50\n",
      "10/10 [==============================] - 3s 289ms/step - loss: 0.0080 - accuracy: 1.0000 - val_loss: 0.8372 - val_accuracy: 0.6286\n",
      "Epoch 8/50\n",
      "10/10 [==============================] - 3s 287ms/step - loss: 0.0028 - accuracy: 1.0000 - val_loss: 0.7277 - val_accuracy: 0.7048\n",
      "Epoch 9/50\n",
      "10/10 [==============================] - 3s 293ms/step - loss: 0.0067 - accuracy: 1.0000 - val_loss: 0.7532 - val_accuracy: 0.6952\n",
      "Epoch 10/50\n",
      "10/10 [==============================] - 3s 290ms/step - loss: 0.0029 - accuracy: 1.0000 - val_loss: 0.7753 - val_accuracy: 0.7333\n",
      "Epoch 11/50\n",
      "10/10 [==============================] - 3s 290ms/step - loss: 0.0020 - accuracy: 1.0000 - val_loss: 0.7719 - val_accuracy: 0.7429\n",
      "Epoch 12/50\n",
      "10/10 [==============================] - 3s 292ms/step - loss: 9.2425e-04 - accuracy: 1.0000 - val_loss: 0.8254 - val_accuracy: 0.7619\n",
      "Epoch 13/50\n",
      "10/10 [==============================] - 3s 290ms/step - loss: 0.0014 - accuracy: 1.0000 - val_loss: 0.8254 - val_accuracy: 0.7524\n",
      "Epoch 14/50\n",
      "10/10 [==============================] - 3s 294ms/step - loss: 4.9786e-04 - accuracy: 1.0000 - val_loss: 0.8214 - val_accuracy: 0.7524\n",
      "Epoch 15/50\n",
      "10/10 [==============================] - 3s 291ms/step - loss: 5.0104e-04 - accuracy: 1.0000 - val_loss: 0.8010 - val_accuracy: 0.7714\n",
      "Epoch 16/50\n",
      "10/10 [==============================] - 4s 372ms/step - loss: 0.0016 - accuracy: 1.0000 - val_loss: 0.8086 - val_accuracy: 0.7619\n",
      "Epoch 17/50\n",
      "10/10 [==============================] - 4s 428ms/step - loss: 9.0805e-04 - accuracy: 1.0000 - val_loss: 0.7813 - val_accuracy: 0.7524\n",
      "Epoch 18/50\n",
      "10/10 [==============================] - 4s 393ms/step - loss: 0.0030 - accuracy: 1.0000 - val_loss: 0.6859 - val_accuracy: 0.7524\n",
      "Epoch 19/50\n",
      "10/10 [==============================] - 4s 383ms/step - loss: 4.0620e-04 - accuracy: 1.0000 - val_loss: 0.8050 - val_accuracy: 0.7429\n",
      "Epoch 20/50\n",
      "10/10 [==============================] - 4s 406ms/step - loss: 0.0028 - accuracy: 1.0000 - val_loss: 0.7931 - val_accuracy: 0.7048\n",
      "Epoch 21/50\n",
      "10/10 [==============================] - 4s 393ms/step - loss: 0.0013 - accuracy: 1.0000 - val_loss: 0.9118 - val_accuracy: 0.7810\n",
      "Epoch 22/50\n",
      "10/10 [==============================] - 4s 428ms/step - loss: 0.0013 - accuracy: 1.0000 - val_loss: 0.9662 - val_accuracy: 0.7810\n",
      "Epoch 23/50\n",
      "10/10 [==============================] - 4s 397ms/step - loss: 0.0016 - accuracy: 1.0000 - val_loss: 0.9566 - val_accuracy: 0.7714\n",
      "Epoch 24/50\n",
      "10/10 [==============================] - 4s 416ms/step - loss: 4.0207e-04 - accuracy: 1.0000 - val_loss: 0.9441 - val_accuracy: 0.7524\n",
      "Epoch 25/50\n",
      "10/10 [==============================] - 4s 388ms/step - loss: 5.5992e-04 - accuracy: 1.0000 - val_loss: 0.9488 - val_accuracy: 0.7429\n",
      "Epoch 26/50\n",
      "10/10 [==============================] - 4s 382ms/step - loss: 3.2615e-04 - accuracy: 1.0000 - val_loss: 0.9493 - val_accuracy: 0.7429\n",
      "Epoch 27/50\n",
      "10/10 [==============================] - 4s 393ms/step - loss: 0.0024 - accuracy: 1.0000 - val_loss: 1.1097 - val_accuracy: 0.7619\n",
      "Epoch 28/50\n",
      "10/10 [==============================] - 4s 386ms/step - loss: 6.4157e-04 - accuracy: 1.0000 - val_loss: 1.0330 - val_accuracy: 0.7333\n",
      "Epoch 29/50\n",
      "10/10 [==============================] - 4s 379ms/step - loss: 5.0241e-04 - accuracy: 1.0000 - val_loss: 1.0636 - val_accuracy: 0.7238\n",
      "Epoch 30/50\n",
      "10/10 [==============================] - 4s 390ms/step - loss: 0.0093 - accuracy: 0.9968 - val_loss: 0.9595 - val_accuracy: 0.7429\n",
      "Epoch 31/50\n",
      "10/10 [==============================] - 4s 427ms/step - loss: 0.0221 - accuracy: 0.9905 - val_loss: 0.4450 - val_accuracy: 0.8000\n",
      "Epoch 32/50\n",
      "10/10 [==============================] - 4s 415ms/step - loss: 0.0734 - accuracy: 0.9714 - val_loss: 0.7401 - val_accuracy: 0.7714\n",
      "Epoch 33/50\n",
      "10/10 [==============================] - 4s 398ms/step - loss: 0.1800 - accuracy: 0.9302 - val_loss: 0.8795 - val_accuracy: 0.6857\n",
      "Epoch 34/50\n",
      "10/10 [==============================] - 4s 390ms/step - loss: 0.1113 - accuracy: 0.9587 - val_loss: 1.5311 - val_accuracy: 0.6286\n",
      "Epoch 35/50\n",
      "10/10 [==============================] - 4s 387ms/step - loss: 0.0526 - accuracy: 0.9810 - val_loss: 0.9037 - val_accuracy: 0.7333\n",
      "Epoch 36/50\n",
      "10/10 [==============================] - 4s 426ms/step - loss: 0.0511 - accuracy: 0.9683 - val_loss: 0.9413 - val_accuracy: 0.7905\n",
      "Epoch 37/50\n",
      "10/10 [==============================] - 4s 433ms/step - loss: 0.0542 - accuracy: 0.9778 - val_loss: 1.4303 - val_accuracy: 0.7143\n",
      "Epoch 38/50\n",
      "10/10 [==============================] - 4s 396ms/step - loss: 0.0138 - accuracy: 0.9968 - val_loss: 1.1805 - val_accuracy: 0.7333\n",
      "Epoch 39/50\n",
      "10/10 [==============================] - 4s 403ms/step - loss: 0.0108 - accuracy: 0.9968 - val_loss: 1.2630 - val_accuracy: 0.7238\n",
      "Epoch 40/50\n",
      "10/10 [==============================] - 4s 397ms/step - loss: 0.0030 - accuracy: 1.0000 - val_loss: 1.4685 - val_accuracy: 0.7238\n",
      "Epoch 41/50\n",
      "10/10 [==============================] - 4s 391ms/step - loss: 0.0050 - accuracy: 1.0000 - val_loss: 1.5629 - val_accuracy: 0.7429\n",
      "Epoch 42/50\n",
      "10/10 [==============================] - 4s 395ms/step - loss: 8.9967e-04 - accuracy: 1.0000 - val_loss: 1.5571 - val_accuracy: 0.7333\n",
      "Epoch 43/50\n",
      "10/10 [==============================] - 4s 385ms/step - loss: 0.0068 - accuracy: 1.0000 - val_loss: 1.7623 - val_accuracy: 0.7429\n",
      "Epoch 44/50\n",
      "10/10 [==============================] - 4s 389ms/step - loss: 0.0019 - accuracy: 1.0000 - val_loss: 1.9405 - val_accuracy: 0.7429\n",
      "Epoch 45/50\n",
      "10/10 [==============================] - 4s 385ms/step - loss: 0.0108 - accuracy: 0.9937 - val_loss: 2.0431 - val_accuracy: 0.7429\n",
      "Epoch 46/50\n",
      "10/10 [==============================] - 4s 395ms/step - loss: 0.0077 - accuracy: 0.9968 - val_loss: 1.8305 - val_accuracy: 0.7524\n",
      "Epoch 47/50\n",
      "10/10 [==============================] - 4s 399ms/step - loss: 0.0034 - accuracy: 1.0000 - val_loss: 1.3900 - val_accuracy: 0.7714\n",
      "Epoch 48/50\n",
      "10/10 [==============================] - 4s 438ms/step - loss: 0.0016 - accuracy: 1.0000 - val_loss: 1.3439 - val_accuracy: 0.7619\n",
      "Epoch 49/50\n",
      "10/10 [==============================] - 4s 402ms/step - loss: 0.0024 - accuracy: 1.0000 - val_loss: 1.2513 - val_accuracy: 0.7714\n",
      "Epoch 50/50\n",
      "10/10 [==============================] - 4s 393ms/step - loss: 0.0030 - accuracy: 1.0000 - val_loss: 1.1178 - val_accuracy: 0.7810\n"
     ]
    }
   ],
   "source": [
    "checkpoint = ModelCheckpoint(\n",
    "    filepath='Inc_data_noaug7030_iter2_weights.h5',\n",
    "    monitor='val_loss',\n",
    "    save_best_only=True,\n",
    "    save_weights_only=True,\n",
    "    mode='min',\n",
    "    verbose=1\n",
    ")\n",
    "# Train the model\n",
    "history = model.fit(\n",
    "    train_generator,\n",
    "    epochs=50,\n",
    "    validation_data=val_generator,\n",
    "    batch_size=batch_size,\n",
    "    callbacks=[checkpoint] \n",
    ")"
   ]
  },
  {
   "cell_type": "code",
   "execution_count": null,
   "metadata": {},
   "outputs": [],
   "source": [
    "# Plot training & validation accuracy\n",
    "plt.figure(figsize=(12, 4))\n",
    "plt.subplot(1, 2, 1)\n",
    "plt.plot(history.history['accuracy'])\n",
    "plt.plot(history.history['val_accuracy'])\n",
    "plt.title('Model Accuracy')\n",
    "plt.ylabel('Accuracy')\n",
    "plt.xlabel('Epoch')\n",
    "plt.legend(['Train', 'Validation'], loc='upper left')\n",
    "\n",
    "# Plot training & validation loss\n",
    "plt.subplot(1, 2, 2)\n",
    "plt.plot(history.history['loss'])\n",
    "plt.plot(history.history['val_loss'])\n",
    "plt.title('Model Loss')\n",
    "plt.ylabel('Loss')\n",
    "plt.xlabel('Epoch')\n",
    "plt.legend(['Train', 'Validation'], loc='upper left')\n",
    "\n",
    "plt.tight_layout()\n",
    "plt.show()\n",
    "\n",
    "# Print final training and validation metrics\n",
    "print(f\"Final training accuracy: {history.history['accuracy'][-1]:.4f}\")\n",
    "print(f\"Final validation accuracy: {history.history['val_accuracy'][-1]:.4f}\")\n",
    "print(f\"Final training loss: {history.history['loss'][-1]:.4f}\")\n",
    "print(f\"Final validation loss: {history.history['val_loss'][-1]:.4f}\")\n",
    "\n",
    "\n"
   ]
  },
  {
   "cell_type": "code",
   "execution_count": 132,
   "metadata": {},
   "outputs": [
    {
     "name": "stdout",
     "output_type": "stream",
     "text": [
      "4/4 [==============================] - 1s 88ms/step - loss: 0.7272 - accuracy: 0.8396\n",
      "4/4 [==============================] - 0s 94ms/step\n",
      "Unique values in test_labels: [0 1]\n",
      "Unique values in predicted_classes: [0 1]\n"
     ]
    },
    {
     "data": {
      "image/png": "[encoded data removed]",
      "text/plain": [
       "<Figure size 800x600 with 2 Axes>"
      ]
     },
     "metadata": {},
     "output_type": "display_data"
    },
    {
     "name": "stdout",
     "output_type": "stream",
     "text": [
      "                precision    recall  f1-score   support\n",
      "\n",
      "Non-Gingivitis       0.87      0.82      0.84        56\n",
      "    Gingivitis       0.81      0.86      0.83        50\n",
      "\n",
      "      accuracy                           0.84       106\n",
      "     macro avg       0.84      0.84      0.84       106\n",
      "  weighted avg       0.84      0.84      0.84       106\n",
      "\n"
     ]
    }
   ],
   "source": [
    "# Evaluate the model\n",
    "model.evaluate(test_images, test_labels, batch_size=batch_size)\n",
    "# print(f\"Test accuracy: {test_accuracy:.4f}\")\n",
    "\n",
    "# Generate predictions\n",
    "predictions = model.predict(test_images, batch_size=batch_size)\n",
    "predicted_classes = (predictions > 0.5).astype(int).reshape(-1)\n",
    "\n",
    "# The rest of your code remains the same\n",
    "print(\"Unique values in test_labels:\", np.unique(test_labels))\n",
    "print(\"Unique values in predicted_classes:\", np.unique(predicted_classes))\n",
    "\n",
    "labels = sorted(np.unique(np.concatenate([test_labels, predicted_classes])))\n",
    "target_names = ['Non-Gingivitis' if l == 0 else 'Gingivitis' for l in labels]\n",
    "\n",
    "cm = confusion_matrix(test_labels, predicted_classes)\n",
    "\n",
    "plt.figure(figsize=(8, 6))\n",
    "sns.heatmap(cm, annot=True, fmt='d', cmap='Blues', xticklabels=target_names, yticklabels=target_names)\n",
    "plt.title('Confusion Matrix 3rd Iteration')\n",
    "plt.xlabel('Predicted')\n",
    "plt.ylabel('Actual')\n",
    "plt.show()\n",
    "\n",
    "print(classification_report(test_labels, predicted_classes, labels=labels, target_names=target_names, zero_division=1))"
   ]
  },
  {
   "cell_type": "code",
   "execution_count": null,
   "metadata": {},
   "outputs": [],
   "source": [
    "# Model evaluation using new data testing\n",
    "from tensorflow.keras.preprocessing.image import load_img, img_to_array\n",
    "\n",
    "# Define the path to your test data folder\n",
    "test_data_dir = r'C:\\Users\\alian\\Downloads\\skripshoot\\test data'\n",
    "\n",
    "# Function to load images from a directory\n",
    "def load_images_from_directory(directory, target_size=(299, 299)):\n",
    "    images = []\n",
    "    labels = []\n",
    "    for class_name in os.listdir(directory):\n",
    "        class_path = os.path.join(directory, class_name)\n",
    "        if os.path.isdir(class_path):\n",
    "            for img_name in os.listdir(class_path):\n",
    "                img_path = os.path.join(class_path, img_name)\n",
    "                img = load_img(img_path, target_size=target_size)\n",
    "                img_array = img_to_array(img)\n",
    "                images.append(img_array)\n",
    "                labels.append(0 if class_name == 'non-gingi' else 1)\n",
    "    return np.array(images), np.array(labels)\n",
    "\n",
    "# Load test images and labels\n",
    "test_images, test_labels = load_images_from_directory(test_data_dir)\n",
    "\n",
    "\n",
    "# Evaluate the model\n",
    "test_loss, test_accuracy = model.evaluate(test_images, test_labels, batch_size=batch_size)\n",
    "print(f\"Test accuracy: {test_accuracy:.4f}\")\n",
    "\n",
    "# Generate predictions\n",
    "predictions = model.predict(test_images, batch_size=batch_size)\n",
    "predicted_classes = (predictions > 0.5).astype(int).reshape(-1)\n",
    "\n",
    "# The rest of your code remains the same\n",
    "print(\"Unique values in test_labels:\", np.unique(test_labels))\n",
    "print(\"Unique values in predicted_classes:\", np.unique(predicted_classes))\n",
    "\n",
    "labels = sorted(np.unique(np.concatenate([test_labels, predicted_classes])))\n",
    "target_names = ['Non-Gingivitis' if l == 0 else 'Gingivitis' for l in labels]\n",
    "\n",
    "cm = confusion_matrix(test_labels, predicted_classes)\n",
    "\n",
    "plt.figure(figsize=(8, 6))\n",
    "sns.heatmap(cm, annot=True, fmt='d', cmap='Blues', xticklabels=target_names, yticklabels=target_names)\n",
    "plt.title('Confusion Matrix 1st Iteration')\n",
    "plt.xlabel('Predicted')\n",
    "plt.ylabel('Actual')\n",
    "plt.show()\n",
    "\n",
    "print(classification_report(test_labels, predicted_classes, labels=labels, target_names=target_names, zero_division=1))"
   ]
  }
 ],
 "metadata": {
  "kernelspec": {
   "display_name": "tf",
   "language": "python",
   "name": "python3"
  },
  "language_info": {
   "codemirror_mode": {
    "name": "ipython",
    "version": 3
   },
   "file_extension": ".py",
   "mimetype": "text/x-python",
   "name": "python",
   "nbconvert_exporter": "python",
   "pygments_lexer": "ipython3",
   "version": "3.9.19"
  }
 },
 "nbformat": 4,
 "nbformat_minor": 2
}
